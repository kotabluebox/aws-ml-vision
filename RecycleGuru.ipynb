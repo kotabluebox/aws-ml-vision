{
 "cells": [
  {
   "cell_type": "markdown",
   "metadata": {},
   "source": [
    "# <br>\n",
    "<br>\n",
    "<center><span style=\"font-family:overpass;font-weight:300;font-size:40px;color:#303030;\">Recycle Guru</span></center>\n",
    "<br>\n",
    "<p style=\"font-family:overpass;font-weight:700;font-size:20px;color:#0099FF;text-align:center;margin-top:5px;\">Can I recycle that thing?</p>\n",
    "<br>\n",
    "<img src=\"./notebook_images/ryan-everton-vB6rYZ9rZ6g-unsplash.jpg\" alt=\"Splash\" style=\"width: 20%;\"/>\n",
    "\n",
    "<br>\n",
    "<img src=\"./notebook_images/pawel-czerwinski-RkIsyD_AVvc-unsplash.jpg\" alt=\"Splash\" style=\"width: 50%;\"/>\n",
    "\n",
    "<br>\n",
    "\n",
    "<br>\n",
    "<br>\n",
    "<br>\n",
    "\n",
    "Photo by Paweł Czerwiński on Unsplash\n"
   ]
  },
  {
   "cell_type": "markdown",
   "metadata": {},
   "source": [
    "<span style=\"font-family:overpass;font-size:22px;color:#303030;font-weight:300;\">\n",
    "    Using Machine Learning and Image Classification to determine if you can recycle something</span><br>"
   ]
  },
  {
   "cell_type": "markdown",
   "metadata": {},
   "source": [
    "## Quiz:  Can you recycle the pizza Box from delivered pizza?\n"
   ]
  },
  {
   "cell_type": "markdown",
   "metadata": {},
   "source": [
    "No - technically that should be compost!"
   ]
  },
  {
   "cell_type": "markdown",
   "metadata": {},
   "source": [
    "## Recycle Guru"
   ]
  },
  {
   "cell_type": "markdown",
   "metadata": {},
   "source": [
    "### Goal"
   ]
  },
  {
   "cell_type": "markdown",
   "metadata": {},
   "source": [
    "<span style=\"font-family:overpass;font-size:18px;color:#303030;font-weight:300;\">\n",
    "Train an AWS SageMaker model using the <b>image-classifier</b> pre-trained RESNet model to recognize new images labeled as <i>recycleable</i> or <i>not recycleable</i>\n",
    "</span><br>\n",
    "\n"
   ]
  },
  {
   "cell_type": "markdown",
   "metadata": {},
   "source": [
    "### Architecture\n",
    "\n",
    "<br>\n",
    "<img src=\"./notebook_images/recycle_guru_arch.png\" alt=\"arch\" style=\"width: 90%;\"/>\n",
    "\n"
   ]
  },
  {
   "cell_type": "markdown",
   "metadata": {},
   "source": [
    "## Taking New Pictures\n",
    "\n",
    "<br>\n",
    "<img src=\"./notebook_images/jeff-sheldon-zr8msYQhfRg-unsplash.jpg\" alt=\"Splash\" style=\"width: 40%;\"/>\n",
    "\n",
    "Take some pictures to add as a new dataset\n",
    "\n",
    "\n",
    "Photo by Jeff Sheldon on Unsplash"
   ]
  },
  {
   "cell_type": "code",
   "execution_count": 2,
   "metadata": {},
   "outputs": [
    {
     "name": "stdout",
     "output_type": "stream",
     "text": [
      "Getting Ready..... In 3 Seconds it will start to take pictures\n",
      "3\n",
      "2\n",
      "1\n",
      "Taking Picture! \n",
      "Press 's' to take  picture\n",
      "Press 'q' to stop taking pictures\n",
      "Make sure you select the video window before pressing 'q' or 's'\n",
      "115\n",
      "Saving picture to: ./data/dataset/coffee/coffee_7IdAu_n.png\n",
      "115\n",
      "Saving picture to: ./data/dataset/coffee/coffee_7DMZA_n.png\n",
      "115\n",
      "Saving picture to: ./data/dataset/coffee/coffee_GxyXH_n.png\n",
      "115\n",
      "Saving picture to: ./data/dataset/coffee/coffee_A4zkv_n.png\n",
      "115\n",
      "Saving picture to: ./data/dataset/coffee/coffee_TMonw_n.png\n",
      "115\n",
      "Saving picture to: ./data/dataset/coffee/coffee_m44iG_n.png\n",
      "115\n",
      "Saving picture to: ./data/dataset/coffee/coffee_lPuzF_n.png\n",
      "115\n",
      "Saving picture to: ./data/dataset/coffee/coffee_EOX8e_n.png\n",
      "115\n",
      "Saving picture to: ./data/dataset/coffee/coffee_SkeVv_n.png\n",
      "115\n",
      "Saving picture to: ./data/dataset/coffee/coffee_Dutij_n.png\n",
      "115\n",
      "Saving picture to: ./data/dataset/coffee/coffee_5UNVU_n.png\n",
      "115\n",
      "Saving picture to: ./data/dataset/coffee/coffee_Nz8gI_n.png\n",
      "115\n",
      "Saving picture to: ./data/dataset/coffee/coffee_LZNTb_n.png\n",
      "115\n",
      "Saving picture to: ./data/dataset/coffee/coffee_yf4hG_n.png\n",
      "115\n",
      "Saving picture to: ./data/dataset/coffee/coffee_30buu_n.png\n",
      "115\n",
      "Saving picture to: ./data/dataset/coffee/coffee_2tRdu_n.png\n",
      "115\n",
      "Saving picture to: ./data/dataset/coffee/coffee_JHmvw_n.png\n",
      "115\n",
      "Saving picture to: ./data/dataset/coffee/coffee_Vfbw0_n.png\n",
      "115\n",
      "Saving picture to: ./data/dataset/coffee/coffee_br2TS_n.png\n",
      "115\n",
      "Saving picture to: ./data/dataset/coffee/coffee_fmfFE_n.png\n",
      "115\n",
      "Saving picture to: ./data/dataset/coffee/coffee_xi34r_n.png\n",
      "115\n",
      "Saving picture to: ./data/dataset/coffee/coffee_pFSrC_n.png\n",
      "115\n",
      "Saving picture to: ./data/dataset/coffee/coffee_EOgwh_n.png\n",
      "115\n",
      "Saving picture to: ./data/dataset/coffee/coffee_S17Ow_n.png\n",
      "115\n",
      "Saving picture to: ./data/dataset/coffee/coffee_OqqN5_n.png\n",
      "115\n",
      "Saving picture to: ./data/dataset/coffee/coffee_naSyX_n.png\n",
      "115\n",
      "Saving picture to: ./data/dataset/coffee/coffee_jsmsD_n.png\n",
      "115\n",
      "Saving picture to: ./data/dataset/coffee/coffee_42sNB_n.png\n",
      "115\n",
      "Saving picture to: ./data/dataset/coffee/coffee_yRfed_n.png\n",
      "115\n",
      "Saving picture to: ./data/dataset/coffee/coffee_YPnP8_n.png\n",
      "115\n",
      "Saving picture to: ./data/dataset/coffee/coffee_psZ12_n.png\n",
      "115\n",
      "Saving picture to: ./data/dataset/coffee/coffee_mc3ZW_n.png\n",
      "115\n",
      "Saving picture to: ./data/dataset/coffee/coffee_3aHwu_n.png\n",
      "115\n",
      "Saving picture to: ./data/dataset/coffee/coffee_JyqAO_n.png\n",
      "115\n",
      "Saving picture to: ./data/dataset/coffee/coffee_cTThd_n.png\n",
      "115\n",
      "Saving picture to: ./data/dataset/coffee/coffee_VIPt2_n.png\n",
      "113\n"
     ]
    }
   ],
   "source": [
    "%%bash\n",
    "python picture_taker.py --data-dir dataset --dataset-name coffee --image-suffix n"
   ]
  },
  {
   "cell_type": "code",
   "execution_count": 5,
   "metadata": {},
   "outputs": [
    {
     "name": "stdout",
     "output_type": "stream",
     "text": [
      "./data/dataset/coffee\n",
      "├── coffee_2tRdu_n.png\n",
      "├── coffee_30buu_n.png\n",
      "├── coffee_3aHwu_n.png\n",
      "├── coffee_42sNB_n.png\n",
      "├── coffee_5UNVU_n.png\n",
      "├── coffee_7AgL9_n.png\n",
      "├── coffee_7DMZA_n.png\n",
      "├── coffee_7IdAu_n.png\n",
      "├── coffee_A4zkv_n.png\n",
      "├── coffee_Dutij_n.png\n",
      "├── coffee_EOX8e_n.png\n",
      "├── coffee_EOgwh_n.png\n",
      "├── coffee_GxyXH_n.png\n",
      "├── coffee_JHmvw_n.png\n",
      "├── coffee_JyqAO_n.png\n",
      "├── coffee_LZNTb_n.png\n",
      "├── coffee_Nz8gI_n.png\n",
      "├── coffee_OqqN5_n.png\n",
      "├── coffee_S17Ow_n.png\n",
      "├── coffee_SkeVv_n.png\n",
      "├── coffee_TMonw_n.png\n",
      "├── coffee_VIPt2_n.png\n",
      "├── coffee_Vfbw0_n.png\n",
      "├── coffee_YPnP8_n.png\n",
      "├── coffee_aRiDu_n.png\n",
      "├── coffee_br2TS_n.png\n",
      "├── coffee_cTThd_n.png\n",
      "├── coffee_eKxO3_n.png\n",
      "├── coffee_emcDr_n.png\n",
      "├── coffee_fmfFE_n.png\n",
      "├── coffee_jsmsD_n.png\n",
      "├── coffee_lPuzF_n.png\n",
      "├── coffee_m44iG_n.png\n",
      "├── coffee_mc3ZW_n.png\n",
      "├── coffee_naSyX_n.png\n",
      "├── coffee_pFSrC_n.png\n",
      "├── coffee_psZ12_n.png\n",
      "├── coffee_vvrzv_n.png\n",
      "├── coffee_xi34r_n.png\n",
      "├── coffee_yRfed_n.png\n",
      "├── coffee_yf4hG_n.png\n",
      "└── coffee_yjCjl_n.png\n",
      "\n",
      "0 directories, 42 files\n"
     ]
    }
   ],
   "source": [
    "%%bash\n",
    "tree ./data/dataset/coffee"
   ]
  },
  {
   "cell_type": "markdown",
   "metadata": {},
   "source": [
    "## Resize all images for training\n",
    "\n",
    "The CNN has an input shape of 3,224,224 so all of the training pictures needed to be resized to these dimensions.\n",
    "\n",
    "Sometimes that meant adding borders to force the image to be the right size while maintaining the proper aspect ratio.\n"
   ]
  },
  {
   "cell_type": "code",
   "execution_count": 6,
   "metadata": {},
   "outputs": [],
   "source": [
    "%%bash\n",
    "python resize_images.py --from-dir ./data/dataset --to-dir ./data/data_resize --to-size 224 --max-images-per-label 30\n"
   ]
  },
  {
   "cell_type": "code",
   "execution_count": 8,
   "metadata": {},
   "outputs": [
    {
     "name": "stdout",
     "output_type": "stream",
     "text": [
      "./data/data_resize_224_224\n",
      "├── cats\n",
      "├── coffee\n",
      "├── dogs\n",
      "├── ernest_t_bass\n",
      "├── panda\n",
      "└── water_bottle\n",
      "\n",
      "6 directories, 0 files\n"
     ]
    }
   ],
   "source": [
    "%%bash\n",
    "tree ./data/data_resize_224_224 -L 1"
   ]
  },
  {
   "cell_type": "markdown",
   "metadata": {},
   "source": [
    "## Manually Upload to S3\n",
    "\n",
    "\n"
   ]
  },
  {
   "cell_type": "markdown",
   "metadata": {},
   "source": [
    "## Train the Model in AWS SageMaker"
   ]
  },
  {
   "cell_type": "markdown",
   "metadata": {},
   "source": [
    "## Make Predictions\n",
    "\n",
    "<br>\n",
    "<img src=\"./notebook_images/mitya-ivanov-2HWkORIX3II-unsplash.jpg\" alt=\"Splash\" style=\"width: 40%;\"/>\n",
    "\n"
   ]
  },
  {
   "cell_type": "markdown",
   "metadata": {},
   "source": [
    "### Take a new picture"
   ]
  },
  {
   "cell_type": "code",
   "execution_count": 14,
   "metadata": {},
   "outputs": [
    {
     "name": "stdout",
     "output_type": "stream",
     "text": [
      "Getting Ready..... In 3 Seconds it will start to take pictures\n",
      "3\n",
      "2\n",
      "1\n",
      "Taking Picture! \n",
      "Press 's' to take  picture\n",
      "Press 'q' to stop taking pictures\n",
      "Make sure you select the video window before pressing 'q' or 's'\n",
      "Saving picture to: ./data/test_images/test_image/test_image_iCP4l.png\n"
     ]
    }
   ],
   "source": [
    "%%bash\n",
    "python picture_taker.py --data-dir test_images --dataset-name test_image"
   ]
  },
  {
   "cell_type": "markdown",
   "metadata": {},
   "source": [
    "### Attempt to classify the picture\n",
    "\n",
    "This will use the API Gateway calling a Lambda to execute the SageMaker Model Endpoint passing the image data"
   ]
  },
  {
   "cell_type": "code",
   "execution_count": 18,
   "metadata": {},
   "outputs": [
    {
     "name": "stdout",
     "output_type": "stream",
     "text": [
      "Status Code: 200\n",
      "Predicted Label: Ernest T Bass\n",
      "Predicted Probability: 0.9032610654830933\n",
      "\n",
      "All Predictions: [['Cat', 0.015165724791586399], ['Dog', 0.01629793457686901], ['Ernest T Bass', 0.9032610654830933], ['Panda', 0.012439848855137825], ['Water Bottle', 0.05283547565340996]]\n",
      "-------------------\n"
     ]
    }
   ],
   "source": [
    "%%bash\n",
    "\n",
    "python predict_image_rest_client.py --image-path ./data/test_images/test_image/test_image_iCP4l.png --api-gateway-url https://vojpv3knd4.execute-api.us-east-1.amazonaws.com/test/predictimageclass\n"
   ]
  },
  {
   "cell_type": "code",
   "execution_count": null,
   "metadata": {},
   "outputs": [],
   "source": []
  }
 ],
 "metadata": {
  "kernelspec": {
   "display_name": "Python 3",
   "language": "python",
   "name": "python3"
  },
  "language_info": {
   "codemirror_mode": {
    "name": "ipython",
    "version": 3
   },
   "file_extension": ".py",
   "mimetype": "text/x-python",
   "name": "python",
   "nbconvert_exporter": "python",
   "pygments_lexer": "ipython3",
   "version": "3.6.3"
  }
 },
 "nbformat": 4,
 "nbformat_minor": 2
}
