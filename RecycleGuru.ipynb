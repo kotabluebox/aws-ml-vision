{
 "cells": [
  {
   "cell_type": "markdown",
   "metadata": {},
   "source": [
    "# <br>\n",
    "<br>\n",
    "<center><span style=\"font-family:overpass;font-weight:300;font-size:40px;color:#303030;\">Recycle Guru</span></center>\n",
    "<br>\n",
    "<p style=\"font-family:overpass;font-weight:700;font-size:20px;color:#0099FF;text-align:center;margin-top:5px;\">Can I recycle that thing?</p>\n",
    "<br>\n",
    "<img src=\"./notebook_images/ryan-everton-vB6rYZ9rZ6g-unsplash.jpg\" alt=\"Splash\" style=\"width: 20%;\"/>\n",
    "\n",
    "<br>\n",
    "<img src=\"./notebook_images/pawel-czerwinski-RkIsyD_AVvc-unsplash.jpg\" alt=\"Splash\" style=\"width: 50%;\"/>\n",
    "\n",
    "<br>\n",
    "\n",
    "<br>\n",
    "<br>\n",
    "<br>\n",
    "\n",
    "Photo by Paweł Czerwiński on Unsplash\n"
   ]
  },
  {
   "cell_type": "markdown",
   "metadata": {},
   "source": [
    "<span style=\"font-family:overpass;font-size:22px;color:#303030;font-weight:300;\">\n",
    "    Using Machine Learning and Image Classification to determine if you can recycle something</span><br>"
   ]
  },
  {
   "cell_type": "markdown",
   "metadata": {},
   "source": [
    "## Quiz:  Can you recycle the pizza Box from delivered pizza?\n"
   ]
  },
  {
   "cell_type": "markdown",
   "metadata": {},
   "source": [
    "No - technically the bottom should be compost and the unstained top could be recycled."
   ]
  },
  {
   "cell_type": "markdown",
   "metadata": {},
   "source": [
    "## Nova Scotia Guidelines on Recycling"
   ]
  },
  {
   "cell_type": "markdown",
   "metadata": {},
   "source": [
    "<img src=\"./notebook_images/ns_recycle.png\" alt=\"Splash\" style=\"width: 1000%;\"/>\n",
    "\n"
   ]
  },
  {
   "cell_type": "markdown",
   "metadata": {},
   "source": [
    "## Recycle Guru"
   ]
  },
  {
   "cell_type": "markdown",
   "metadata": {},
   "source": [
    "### Goal"
   ]
  },
  {
   "cell_type": "markdown",
   "metadata": {},
   "source": [
    "<span style=\"font-family:overpass;font-size:18px;color:#303030;font-weight:300;\">\n",
    "Train an AWS SageMaker model using the <b>image-classifier</b> pre-trained RESNet model to recognize new images labeled as <i>recycleable</i> or <i>not recycleable</i>\n",
    "</span><br>\n",
    "\n"
   ]
  },
  {
   "cell_type": "markdown",
   "metadata": {},
   "source": [
    "### Architecture\n",
    "\n",
    "<br>\n",
    "<img src=\"./notebook_images/recycle_guru_arch.png\" alt=\"arch\" style=\"width: 90%;\"/>\n",
    "\n"
   ]
  },
  {
   "cell_type": "markdown",
   "metadata": {},
   "source": [
    "## Taking New Pictures\n",
    "\n",
    "<br>\n",
    "<img src=\"./notebook_images/jeff-sheldon-zr8msYQhfRg-unsplash.jpg\" alt=\"Splash\" style=\"width: 40%;\"/>\n",
    "\n",
    "Take some pictures to add as a new dataset\n",
    "\n",
    "\n",
    "Photo by Jeff Sheldon on Unsplash"
   ]
  },
  {
   "cell_type": "code",
   "execution_count": 65,
   "metadata": {},
   "outputs": [
    {
     "name": "stdout",
     "output_type": "stream",
     "text": [
      "True\n",
      "Taking Picture! \n",
      "Press 's' to take  picture\n",
      "Press 'q' to stop taking pictures\n",
      "Make sure you select the video window before pressing 'q' or 's'\n",
      "Saving picture to: ./data/dataset/markers/markers_9Xo1G_n.png\n",
      "Saving picture to: ./data/dataset/markers/markers_n3Z6a_n.png\n",
      "Saving picture to: ./data/dataset/markers/markers_bvUtW_n.png\n",
      "Saving picture to: ./data/dataset/markers/markers_O194g_n.png\n",
      "Saving picture to: ./data/dataset/markers/markers_FOfG2_n.png\n",
      "Saving picture to: ./data/dataset/markers/markers_Y1iYz_n.png\n",
      "Saving picture to: ./data/dataset/markers/markers_lrU5g_n.png\n",
      "Saving picture to: ./data/dataset/markers/markers_ryOQA_n.png\n",
      "Saving picture to: ./data/dataset/markers/markers_qSy3D_n.png\n",
      "Saving picture to: ./data/dataset/markers/markers_rprI4_n.png\n",
      "Saving picture to: ./data/dataset/markers/markers_1tgHd_n.png\n",
      "Saving picture to: ./data/dataset/markers/markers_azj8D_n.png\n",
      "Saving picture to: ./data/dataset/markers/markers_BFex2_n.png\n",
      "Saving picture to: ./data/dataset/markers/markers_lQeqE_n.png\n",
      "Saving picture to: ./data/dataset/markers/markers_H3cZG_n.png\n",
      "Saving picture to: ./data/dataset/markers/markers_qGOXE_n.png\n",
      "Saving picture to: ./data/dataset/markers/markers_Tma5X_n.png\n",
      "Saving picture to: ./data/dataset/markers/markers_tnnH5_n.png\n",
      "Saving picture to: ./data/dataset/markers/markers_9rpgq_n.png\n",
      "Saving picture to: ./data/dataset/markers/markers_JE0Sb_n.png\n",
      "Saving picture to: ./data/dataset/markers/markers_dHTdo_n.png\n",
      "Saving picture to: ./data/dataset/markers/markers_uNQEB_n.png\n",
      "Saving picture to: ./data/dataset/markers/markers_XSLlu_n.png\n",
      "Saving picture to: ./data/dataset/markers/markers_GqXcg_n.png\n",
      "Saving picture to: ./data/dataset/markers/markers_dyws7_n.png\n",
      "Saving picture to: ./data/dataset/markers/markers_S0HAd_n.png\n",
      "Saving picture to: ./data/dataset/markers/markers_FPI0y_n.png\n",
      "Saving picture to: ./data/dataset/markers/markers_YnHhA_n.png\n",
      "Saving picture to: ./data/dataset/markers/markers_Glwoi_n.png\n",
      "Saving picture to: ./data/dataset/markers/markers_IMQf4_n.png\n",
      "Saving picture to: ./data/dataset/markers/markers_x1zVa_n.png\n",
      "Saving picture to: ./data/dataset/markers/markers_QqbI1_n.png\n",
      "Saving picture to: ./data/dataset/markers/markers_eZyqM_n.png\n",
      "Saving picture to: ./data/dataset/markers/markers_c8Lwc_n.png\n"
     ]
    }
   ],
   "source": [
    "%%bash\n",
    "python picture_taker.py --data-dir dataset --dataset-name markers --image-suffix n"
   ]
  },
  {
   "cell_type": "code",
   "execution_count": 27,
   "metadata": {},
   "outputs": [
    {
     "name": "stdout",
     "output_type": "stream",
     "text": [
      "./data/dataset/coffee_cup\n",
      "├── coffee_cup_1W0xm_r.png\n",
      "├── coffee_cup_3LzOB_r.png\n",
      "├── coffee_cup_4Xxbl_r.png\n",
      "├── coffee_cup_4x14D_r.png\n",
      "├── coffee_cup_6dUGO_r.png\n",
      "├── coffee_cup_87xax_r.png\n",
      "├── coffee_cup_9ggOq_r.png\n",
      "├── coffee_cup_BueXl_r.png\n",
      "├── coffee_cup_CCvWo_r.png\n",
      "├── coffee_cup_CF6P5_r.png\n",
      "├── coffee_cup_CkPnb_r.png\n",
      "├── coffee_cup_FY29Q_r.png\n",
      "├── coffee_cup_HC2v8_r.png\n",
      "├── coffee_cup_IdZCa_r.png\n",
      "├── coffee_cup_MJoHO_r.png\n",
      "├── coffee_cup_NpRQk_r.png\n",
      "├── coffee_cup_PxyvF_r.png\n",
      "├── coffee_cup_RAVL3_r.png\n",
      "├── coffee_cup_S0Gdj_r.png\n",
      "├── coffee_cup_SRIHI_r.png\n",
      "├── coffee_cup_SYUB7_r.png\n",
      "├── coffee_cup_SqPFN_r.png\n",
      "├── coffee_cup_T6GO7_r.png\n",
      "├── coffee_cup_TLgho_r.png\n",
      "├── coffee_cup_VIyvy_r.png\n",
      "├── coffee_cup_Xd0Ji_r.png\n",
      "├── coffee_cup_YvX3M_r.png\n",
      "├── coffee_cup_ZDhTG_r.png\n",
      "├── coffee_cup_ZI6or_r.png\n",
      "├── coffee_cup_cznfR_r.png\n",
      "├── coffee_cup_dGDtg_r.png\n",
      "├── coffee_cup_dXPuL_r.png\n",
      "├── coffee_cup_gPBuC_r.png\n",
      "├── coffee_cup_j9Bdu_r.png\n",
      "├── coffee_cup_mqbVu_r.png\n",
      "├── coffee_cup_o7K5h_r.png\n",
      "├── coffee_cup_of4QB_r.png\n",
      "├── coffee_cup_pMNCL_r.png\n",
      "├── coffee_cup_paZGi_r.png\n",
      "├── coffee_cup_ppOGR_r.png\n",
      "├── coffee_cup_pucwm_r.png\n",
      "├── coffee_cup_ttBB3_r.png\n",
      "├── coffee_cup_ujDPI_r.png\n",
      "├── coffee_cup_uq8W9_r.png\n",
      "├── coffee_cup_wrX8z_r.png\n",
      "├── coffee_cup_xVzuT_r.png\n",
      "├── coffee_cup_yFc3a_r.png\n",
      "├── coffee_cup_yHbNv_r.png\n",
      "├── coffee_cup_yPRWt_r.png\n",
      "└── coffee_cup_ywbw0_r.png\n",
      "\n",
      "0 directories, 50 files\n"
     ]
    }
   ],
   "source": [
    "%%bash\n",
    "tree ./data/dataset/coffee_cup"
   ]
  },
  {
   "cell_type": "markdown",
   "metadata": {},
   "source": [
    "## Resize all images for training\n",
    "\n",
    "The CNN has an input shape of 3,224,224 so all of the training pictures needed to be resized to these dimensions.\n",
    "\n",
    "Sometimes that meant adding borders to force the image to be the right size while maintaining the proper aspect ratio.\n"
   ]
  },
  {
   "cell_type": "code",
   "execution_count": 2,
   "metadata": {},
   "outputs": [],
   "source": [
    "%%bash\n",
    "python resize_images.py --from-dir ./data/dataset --to-dir ./data/data_resize --to-size 224 --max-images-per-label 30\n"
   ]
  },
  {
   "cell_type": "code",
   "execution_count": 33,
   "metadata": {},
   "outputs": [
    {
     "name": "stdout",
     "output_type": "stream",
     "text": [
      "./data/data_resize_224_224\n",
      "├── coffee\n",
      "├── coffee_cup\n",
      "├── raspberry_pi\n",
      "├── timmy\n",
      "└── water_bottle\n",
      "\n",
      "5 directories, 0 files\n"
     ]
    }
   ],
   "source": [
    "%%bash\n",
    "tree ./data/data_resize_224_224 -L 1"
   ]
  },
  {
   "cell_type": "markdown",
   "metadata": {},
   "source": [
    "## Manually Upload to S3\n",
    "\n",
    "\n"
   ]
  },
  {
   "cell_type": "markdown",
   "metadata": {},
   "source": [
    "## Train the Model in AWS SageMaker"
   ]
  },
  {
   "cell_type": "markdown",
   "metadata": {},
   "source": [
    "## Make Predictions\n",
    "\n",
    "<br>\n",
    "<img src=\"./notebook_images/mitya-ivanov-2HWkORIX3II-unsplash.jpg\" alt=\"Splash\" style=\"width: 60%;\"/>\n",
    "\n"
   ]
  },
  {
   "cell_type": "markdown",
   "metadata": {},
   "source": [
    "### Take a new picture"
   ]
  },
  {
   "cell_type": "code",
   "execution_count": 21,
   "metadata": {},
   "outputs": [
    {
     "name": "stdout",
     "output_type": "stream",
     "text": [
      "False\n",
      "Taking Picture! \n",
      "Press 's' to take  picture\n",
      "Press 'q' to stop taking pictures\n",
      "Make sure you select the video window before pressing 'q' or 's'\n",
      "Saving picture to: ./data/test_images/test_image/test_image.png\n"
     ]
    }
   ],
   "source": [
    "%%bash\n",
    "python picture_taker.py --data-dir test_images --dataset-name test_image --random-part false"
   ]
  },
  {
   "cell_type": "markdown",
   "metadata": {},
   "source": [
    "<br>\n",
    "<img src=\"./data/test_images/test_image/test_image.png\" alt=\"testimage\" style=\"width: 60%;\"/>\n",
    "\n"
   ]
  },
  {
   "cell_type": "code",
   "execution_count": 22,
   "metadata": {},
   "outputs": [],
   "source": [
    "%%bash\n",
    "python resize_images.py --from-dir ./data/test_images/test_image --to-dir ./data/test_images/test_image_resize --to-size 224 --max-images-per-label 30\n"
   ]
  },
  {
   "cell_type": "markdown",
   "metadata": {},
   "source": [
    "### Attempt to classify the picture\n",
    "\n",
    "This will use the API Gateway calling a Lambda Function to execute the SageMaker Model Endpoint passing the image data"
   ]
  },
  {
   "cell_type": "code",
   "execution_count": 23,
   "metadata": {},
   "outputs": [
    {
     "name": "stdout",
     "output_type": "stream",
     "text": [
      "Status Code: 200\n",
      "Predicted Label: Timmy\n",
      "Predicted Probability: 0.9923573732376099\n",
      "\n",
      "All Predictions: [['Coffee', 0.0017505133291706443], ['Coffee Cup', 0.003974279388785362], ['Marker', 0.00026158822583965957], ['Raspberry Pie', 0.0007202171254903078], ['Timmy', 0.9923573732376099], ['Water Bottle', 0.000936147989705205]]\n",
      "-------------------\n",
      "Play: Timmy\n"
     ]
    }
   ],
   "source": [
    "%%bash\n",
    "\n",
    "python predict_image_rest_client.py --image-path ./data/test_images/test_image/test_image.png --api-gateway-url https://n9sg1bdu3c.execute-api.us-east-1.amazonaws.com/test/recycle-guru\n"
   ]
  },
  {
   "cell_type": "code",
   "execution_count": 4,
   "metadata": {},
   "outputs": [
    {
     "name": "stdout",
     "output_type": "stream",
     "text": [
      "Status Code: 200\n",
      "Predicted Label: Coffee Cup\n",
      "Predicted Probability: 0.9620079398155212\n",
      "\n",
      "All Predictions: [['Coffee', 0.002885646652430296], ['Coffee Cup', 0.9620079398155212], ['Marker', 0.01140732690691948], ['Raspberry Pie', 0.011078166775405407], ['Timmy', 0.012620867229998112]]\n",
      "-------------------\n",
      "Play: Coffee Cup\n"
     ]
    },
    {
     "name": "stderr",
     "output_type": "stream",
     "text": [
      "Error: AudioFileOpen failed ('wht?')\n"
     ]
    }
   ],
   "source": [
    "%%bash\n",
    "\n",
    "python predict_image_rest_client.py --image-path ./data/data_resize_224_224/coffee_cup/coffee_cup_bwyxl_r.png --api-gateway-url https://n9sg1bdu3c.execute-api.us-east-1.amazonaws.com/test/recycle-guru\n",
    "\n"
   ]
  }
 ],
 "metadata": {
  "kernelspec": {
   "display_name": "Python 3",
   "language": "python",
   "name": "python3"
  },
  "language_info": {
   "codemirror_mode": {
    "name": "ipython",
    "version": 3
   },
   "file_extension": ".py",
   "mimetype": "text/x-python",
   "name": "python",
   "nbconvert_exporter": "python",
   "pygments_lexer": "ipython3",
   "version": "3.6.3"
  }
 },
 "nbformat": 4,
 "nbformat_minor": 2
}
